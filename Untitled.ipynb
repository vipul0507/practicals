{
 "cells": [
  {
   "cell_type": "code",
   "execution_count": null,
   "id": "78028f88-e5d7-4934-bf2d-92a381faa678",
   "metadata": {},
   "outputs": [],
   "source": []
  }
 ],
 "metadata": {
  "kernelspec": {
   "display_name": "",
   "name": ""
  },
  "language_info": {
   "name": ""
  }
 },
 "nbformat": 4,
 "nbformat_minor": 5
}
